{
 "cells": [
  {
   "cell_type": "code",
   "execution_count": 29,
   "metadata": {},
   "outputs": [
    {
     "name": "stdout",
     "output_type": "stream",
     "text": [
      "Successfully making XML files for : PHAM PHUONG LOAN 41K21 folder.\n",
      "Successfully making XML files for : TRINH DINH PHUONG 41K21 folder.\n",
      "PHAM PHUONG LOAN 41K21  folder has been copied.\n",
      "TRINH DINH PHUONG 41K21  folder has been copied.\n"
     ]
    }
   ],
   "source": [
    "import os\n",
    "from PIL import Image\n",
    "from yattag import Doc, indent\n",
    "import distutils.util\n",
    "from distutils import dir_util\n",
    "\n",
    "\n",
    "\n",
    "def making_xml(link_of_image, name_of_image,name_of_student,label,width): # WIDTH = HEIGHT nen chi can lay 1\n",
    "    doc, tag, text = Doc().tagtext()\n",
    "\n",
    "    with tag('annotation'):\n",
    "        with tag('folder'):\n",
    "            text('THESIS2019')  #NAME OF FOLDER\n",
    "        with tag('filename'):\n",
    "            text(name_of_image)  #NAME OF IMAGE \n",
    "        with tag('path'):\n",
    "            text(link_of_image) #LINK OF IMAGE \n",
    "        with tag('source'):\n",
    "            with tag('database'):\n",
    "                text('Unknown')\n",
    "        with tag('size'):\n",
    "            with tag('width'):\n",
    "                text(str(width)) #FIXED\n",
    "            with tag('height'):\n",
    "                text(str(height)) #FIXED\n",
    "            with tag('depth'):\n",
    "                text(3)\n",
    "        with tag('segmented'):\n",
    "                text(0)\n",
    "        with tag('object'):\n",
    "            with tag('name'):\n",
    "                text(label) #LABEL\n",
    "            with tag('pose'):\n",
    "                text('Unspecified')\n",
    "            with tag('truncated'):\n",
    "                text('1')\n",
    "            with tag('difficult'):\n",
    "                text('0')\n",
    "            with tag('bndbox'):\n",
    "                with tag('xmin'):\n",
    "                    text('0')        #FIXED = 0 \n",
    "                with tag('ymin'):\n",
    "                    text('0')        #FIXED = 0 \n",
    "                with tag('xmax'):\n",
    "                    text(str(width))    #FIXED  = WIDTH\n",
    "                with tag('ymax'):\n",
    "                    text(str(width)) #FIXED = HEIGHT\n",
    "                    \n",
    "    result = indent( doc.getvalue(), indentation = ' '*4, newline = '\\r\\n')\n",
    "    #print(result)\n",
    "    name = './data/students/'+name_of_student+\"/seq/\"+name_of_image[:-4] + \".xml\"\n",
    "    f= open(name,\"w+\")\n",
    "    with open(name, 'w') as myfile:\n",
    "        myfile.write(result)\n",
    "        \n",
    "files = os.listdir(\"./data/students/\")\n",
    "for name in files:\n",
    "    link = \"./data/students/\"+ name +\"/seq/\"\n",
    "    images = os.listdir(link)\n",
    "    for image in images:\n",
    "        if \"xml\" not in image :\n",
    "            link_of_image =  link + str(image)\n",
    "            im = Image.open(link_of_image)\n",
    "            width, height = im.size\n",
    "    #print(\"image : \",str(image), \"|\" , \"width : \",width, \" height : \",height)  height = width\n",
    "            making_xml(link_of_image,str(image),str(name), name, width)\n",
    "    \n",
    "    print(\"Successfully making XML files for :\",name,\"folder.\")    \n",
    "\n",
    "files = os.listdir(\"./data/students/\")\n",
    "link = \"./data/students/\"\n",
    "IMAGES = '/home/piggy/Desktop/IMAGES'\n",
    "for name in files:\n",
    "    distutils.dir_util.copy_tree(link + str(name)+\"/seq/\",IMAGES)\n",
    "    print(name,\" folder has been copied.\")\n",
    "    if not os.path.isdir(IMAGES + \"/test\"):\n",
    "        os.makedirs(IMAGES +\"/test\")\n",
    "        print(\"Test folder has been made.\")\n",
    "    if not os.path.isdir(IMAGES + \"/train\"):\n",
    "        os.makedirs(IMAGES +\"/train\")\n",
    "        print(\"Train folder has been made.\")"
   ]
  },
  {
   "cell_type": "code",
   "execution_count": null,
   "metadata": {},
   "outputs": [],
   "source": [
    "#MOVING\n",
    "\n",
    "copyfile(src, dst)"
   ]
  },
  {
   "cell_type": "code",
   "execution_count": null,
   "metadata": {},
   "outputs": [],
   "source": []
  }
 ],
 "metadata": {
  "kernelspec": {
   "display_name": "Python 3",
   "language": "python",
   "name": "python3"
  },
  "language_info": {
   "codemirror_mode": {
    "name": "ipython",
    "version": 3
   },
   "file_extension": ".py",
   "mimetype": "text/x-python",
   "name": "python",
   "nbconvert_exporter": "python",
   "pygments_lexer": "ipython3",
   "version": "3.6.7"
  }
 },
 "nbformat": 4,
 "nbformat_minor": 2
}
