{
 "cells": [
  {
   "cell_type": "code",
   "execution_count": 13,
   "metadata": {},
   "outputs": [
    {
     "name": "stdout",
     "output_type": "stream",
     "text": [
      "======== Preparing pre_data is processing ========\n",
      "Folder PHAM PHUONG LOAN 41K21 is processing\n",
      "Number of images inside folder PHAM PHUONG LOAN 41K21 : 5 \n",
      "\n",
      "Folder TRINH DINH PHUONG 41K21 is processing\n",
      "Number of images inside folder TRINH DINH PHUONG 41K21 : 5 \n",
      "\n",
      "Folder TRUONG TRAN NHAT LINH 41K21 is processing\n",
      "Folder TRUONG TRAN NHAT LINH 41K21 is empty ! \n",
      "\n",
      "Number of students :  3 , total images : 10\n",
      "======== Preparing pre_data is finished ========\n",
      "\n",
      "\n",
      "\n",
      "\n",
      "OK\n"
     ]
    }
   ],
   "source": [
    "import face_recognition\n",
    "import cv2\n",
    "import os,sys     \n",
    "from PIL import Image\n",
    "\n",
    "number_of_student = 0\n",
    "\n",
    "print(\"======== Preparing pre_data is processing ========\\n\")\n",
    "if len(sys.argv) == 2:\n",
    "    path = sys.argv[1]     \n",
    "files = os.listdir(\"./pre_data\")\n",
    "number_of_student = 0\n",
    "total_images = 0\n",
    "\n",
    "for name in files:\n",
    "    number_of_student +=1\n",
    "    link = \"./pre_data\" +\"/\"+ name\n",
    "    pictures = os.listdir(str(link))\n",
    "    print(\"Folder\",name,\"is processing\")\n",
    "    number_of_images = 0\n",
    "    for picture in pictures:\n",
    "        number_of_images +=1\n",
    "        total_images +=1\n",
    "        old_name = str(picture)\n",
    "        image = face_recognition.load_image_file( link + \"/\" + old_name)\n",
    "        face_locations = face_recognition.face_locations(image)\n",
    "        \n",
    "        for face_location in face_locations:\n",
    "            top, right, bottom, left = face_location\n",
    "            face_image = image[top:bottom, left:right]\n",
    "            pil_image = Image.fromarray(face_image)\n",
    "            #pil_image.show()\n",
    "            \n",
    "            new_name = old_name[:-4] + \"_seq0.jpg\"\n",
    "            new_folder1 = \"./data/students/\" + name + \"/default/\"\n",
    "           #print(new_folder1+new_name)\n",
    "            new_folder2 = \"./data/students/\" + name + \"/seq/\"\n",
    "            if not os.path.isdir(new_folder1):\n",
    "               os.makedirs(new_folder1)\n",
    "            if not os.path.isdir(new_folder2):\n",
    "               os.makedirs(new_folder2)\n",
    "            pil_image.save(new_folder1+new_name)\n",
    "    if number_of_images !=0:\n",
    "        print(\"Number of images inside folder\",name, \":\",number_of_images,\"\\n\")\n",
    "    else:\n",
    "        print(\"Folder\",name,\"is empty !\",\"\\n\")\n",
    "print(\"Number of students : \", number_of_student, \", total images :\",total_images)\n",
    "print(\"\\n======== Preparing pre_data is finished ========\\n\\n\")\n"
   ]
  },
  {
   "cell_type": "code",
   "execution_count": 26,
   "metadata": {},
   "outputs": [],
   "source": [
    "#Data augmentation\n",
    "from imgaug import augmenters as iaa\n",
    "import cv2\n",
    "import os,sys  \n",
    "import numpy as np\n",
    "\n",
    "print(\"======== Data Augmentation is processing ========\\n\\n\")\n",
    "def after_seq(x):\n",
    "    if len(sys.argv) == 2:\n",
    "        path = sys.argv[1]     \n",
    "    files = os.listdir(\"./data/students\")\n",
    "    for name in files:\n",
    "        link = \"./data/students/\" + name + \"/default/\"\n",
    "        pictures = os.listdir(str(link))\n",
    "        for picture in pictures:\n",
    "            imglist = []\n",
    "            before_seq = str(picture)\n",
    "            img = cv2.imread(link + \"/\" + str(picture))\n",
    "            imglist.append(img)\n",
    "            images_aug = x.augment_images(imglist)\n",
    "            #cv2.imshow(\"new\",img)cv2.waitKey(0)cv2.destroyAllWindows()\n",
    "            after_seq = before_seq[:-9] + \"_seq\" + str(di) + \".jpg\"\n",
    "            new_folder3 = \"./data/students/\" + name + \"/seq/\"\n",
    "            if not os.path.isdir(new_folder3):\n",
    "               os.makedirs(new_folder3)\n",
    "            cv2.imwrite(new_folder3 + after_seq, images_aug[0])\n",
    "            label = new_folder3 + str(name) + \".txt\"\n",
    "            f= open(label,\"w+\")\n",
    "            with open(label, 'w') as myfile:\n",
    "                myfile.write(str(name))"
   ]
  },
  {
   "cell_type": "code",
   "execution_count": 27,
   "metadata": {},
   "outputs": [],
   "source": [
    "#We have 12 seq : seq1,seq2,seq3,...\n",
    "#\n",
    "seq1 = iaa.Sequential(iaa.Crop(px=(8,0,0,32)))\n",
    "\n",
    "#\n",
    "seq2 = iaa.Sequential(iaa.Fliplr(0.8))\n",
    "\n",
    "#\n",
    "seq3 = iaa.Superpixels(p_replace=0.2)\n",
    "\n",
    "#add\n",
    "seq4 = iaa.Add((35, 55), per_channel=0.5)\n",
    "\n",
    "#gaussian\n",
    "seq5 = iaa.GaussianBlur(sigma=(0, 4.0))\n",
    "\n",
    "#sharpen\n",
    "seq6 = iaa.Sharpen(alpha=1, lightness=1.0)\n",
    "\n",
    "#additive\n",
    "seq7 = iaa.AdditiveGaussianNoise(scale=0.1 * 255)\n",
    "\n",
    "#dropout\n",
    "seq8 = iaa.Dropout(p=0.1)\n",
    "\n",
    "#Coarsedropout\n",
    "seq9 =  iaa.CoarseDropout(p=0.1, size_percent=0.1, min_size=2)\n",
    "\n",
    "#perspective\n",
    "seq10 = iaa.PerspectiveTransform(scale=(0.01,0.1))\n",
    "\n",
    "#perspective2\n",
    "seq11 = iaa.PerspectiveTransform(scale=(0.1,0.1))\n",
    "\n",
    "#Elastic\n",
    "seq12 = iaa.ElasticTransformation(alpha=0.5, sigma=0.2)\n",
    "\n",
    "list_of_seq = [seq1,seq2,seq3,seq4,seq5,seq6,seq7,seq8,seq9,seq10,seq11,seq12]\n",
    "\n",
    "number_of_seq = 12\n",
    "di = 1\n",
    "for seq in list_of_seq:\n",
    "    after_seq(seq)\n",
    "    di+=1\n",
    "print(\"\\n======== Data Augmentation is finished ========\\n\\n\")"
   ]
  },
  {
   "cell_type": "code",
   "execution_count": 32,
   "metadata": {},
   "outputs": [
    {
     "name": "stdout",
     "output_type": "stream",
     "text": [
      "this is file:  ['ALL_SEQ', 'PHAM PHUONG LOAN 41K21', 'TRINH DINH PHUONG 41K21']\n",
      "this is name:  ALL_SEQ\n",
      "this is name:  PHAM PHUONG LOAN 41K21\n",
      "this is name:  TRINH DINH PHUONG 41K21\n"
     ]
    }
   ],
   "source": [
    "#ALL\n",
    "files = os.listdir(\"./data\")\n",
    "print(\"this is file: \",files)\n",
    "list_of_link = []\n",
    "for name in files:\n",
    "    print(\"this is name: \",name)\n",
    "    link = \"./data\" +\"/\"+name + \"/default/\"\n",
    "    list_of_link.append(link)"
   ]
  },
  {
   "cell_type": "code",
   "execution_count": 45,
   "metadata": {},
   "outputs": [
    {
     "data": {
      "text/plain": [
       "['data/ALL_SEQ/phuong4_seq10.jpg',\n",
       " 'data/ALL_SEQ/phuong2_seq4.jpg',\n",
       " 'data/ALL_SEQ/phuong5_seq10.jpg',\n",
       " 'data/ALL_SEQ/Phuong1_seq3.jpg',\n",
       " 'data/ALL_SEQ/phuong2_seq8.jpg',\n",
       " 'data/ALL_SEQ/phuong3_seq5.jpg',\n",
       " 'data/ALL_SEQ/phuong2_seq12.jpg',\n",
       " 'data/ALL_SEQ/Phuong1_seq1.jpg',\n",
       " 'data/ALL_SEQ/phuong5_seq7.jpg',\n",
       " 'data/ALL_SEQ/phuong3_seq10.jpg',\n",
       " 'data/ALL_SEQ/Phuong1_seq11.jpg',\n",
       " 'data/ALL_SEQ/phuong2_seq3.jpg',\n",
       " 'data/ALL_SEQ/phuong5_seq8.jpg',\n",
       " 'data/ALL_SEQ/phuong5_seq12.jpg',\n",
       " 'data/ALL_SEQ/phuong4_seq6.jpg',\n",
       " 'data/ALL_SEQ/phuong4_seq11.jpg',\n",
       " 'data/ALL_SEQ/phuong5_seq3.jpg',\n",
       " 'data/ALL_SEQ/Phuong1_seq8.jpg',\n",
       " 'data/ALL_SEQ/phuong4_seq7.jpg',\n",
       " 'data/ALL_SEQ/Phuong1_seq2.jpg',\n",
       " 'data/ALL_SEQ/Phuong1_seq5.jpg',\n",
       " 'data/ALL_SEQ/Phuong1_seq7.jpg',\n",
       " 'data/ALL_SEQ/Phuong1_seq9.jpg',\n",
       " 'data/ALL_SEQ/phuong2_seq10.jpg',\n",
       " 'data/ALL_SEQ/phuong5_seq2.jpg',\n",
       " 'data/ALL_SEQ/phuong4_seq1.jpg',\n",
       " 'data/ALL_SEQ/phuong3_seq11.jpg',\n",
       " 'data/ALL_SEQ/phuong5_seq11.jpg',\n",
       " 'data/ALL_SEQ/phuong3_seq7.jpg',\n",
       " 'data/ALL_SEQ/phuong4_seq9.jpg',\n",
       " 'data/ALL_SEQ/phuong4_seq8.jpg',\n",
       " 'data/ALL_SEQ/phuong2_seq6.jpg',\n",
       " 'data/ALL_SEQ/phuong5_seq5.jpg',\n",
       " 'data/ALL_SEQ/phuong5_seq1.jpg',\n",
       " 'data/ALL_SEQ/phuong5_seq4.jpg',\n",
       " 'data/ALL_SEQ/phuong4_seq12.jpg',\n",
       " 'data/ALL_SEQ/phuong3_seq4.jpg',\n",
       " 'data/ALL_SEQ/phuong2_seq7.jpg',\n",
       " 'data/ALL_SEQ/phuong4_seq5.jpg',\n",
       " 'data/ALL_SEQ/phuong5_seq6.jpg',\n",
       " 'data/ALL_SEQ/phuong3_seq6.jpg',\n",
       " 'data/ALL_SEQ/phuong4_seq3.jpg',\n",
       " 'data/ALL_SEQ/phuong3_seq12.jpg',\n",
       " 'data/ALL_SEQ/phuong2_seq5.jpg',\n",
       " 'data/ALL_SEQ/phuong2_seq1.jpg',\n",
       " 'data/ALL_SEQ/phuong3_seq3.jpg',\n",
       " 'data/ALL_SEQ/phuong3_seq2.jpg',\n",
       " 'data/ALL_SEQ/Phuong1_seq12.jpg',\n",
       " 'data/ALL_SEQ/phuong4_seq4.jpg',\n",
       " 'data/ALL_SEQ/Phuong1_seq6.jpg',\n",
       " 'data/ALL_SEQ/phuong2_seq2.jpg',\n",
       " 'data/ALL_SEQ/phuong2_seq11.jpg',\n",
       " 'data/ALL_SEQ/phuong3_seq1.jpg',\n",
       " 'data/ALL_SEQ/phuong5_seq9.jpg',\n",
       " 'data/ALL_SEQ/phuong4_seq2.jpg',\n",
       " 'data/ALL_SEQ/Phuong1_seq10.jpg',\n",
       " 'data/ALL_SEQ/phuong2_seq9.jpg',\n",
       " 'data/ALL_SEQ/Phuong1_seq4.jpg',\n",
       " 'data/ALL_SEQ/phuong3_seq9.jpg',\n",
       " 'data/ALL_SEQ/phuong3_seq8.jpg']"
      ]
     },
     "execution_count": 45,
     "metadata": {},
     "output_type": "execute_result"
    }
   ],
   "source": [
    "import distutils.util\n",
    "from distutils import dir_util\n",
    "\n",
    "folder1 = 'data/students/PHAM PHUONG LOAN 41K21/seq'\n",
    "folder2 = 'data/students/TRINH DINH PHUONG 41K21/seq'\n",
    "all_seq = 'data/ALL_SEQ/'\n",
    "\n",
    "distutils.dir_util.copy_tree(folder1,all_seq)\n",
    "distutils.dir_util.copy_tree(folder2,all_seq)"
   ]
  },
  {
   "cell_type": "code",
   "execution_count": 64,
   "metadata": {},
   "outputs": [
    {
     "data": {
      "text/plain": [
       "'/home/piggy/Desktop/3_CV/pre_data/PHAM PHUONG LOAN 41K21/loan4.jpg'"
      ]
     },
     "execution_count": 64,
     "metadata": {},
     "output_type": "execute_result"
    }
   ],
   "source": [
    "os.path.abspath('pre_data/PHAM PHUONG LOAN 41K21/loan4.jpg')"
   ]
  },
  {
   "cell_type": "code",
   "execution_count": 17,
   "metadata": {},
   "outputs": [],
   "source": [
    "picture = face_recognition.load_image_file(\"./pre_data/PHAM PHUONG LOAN 41K21/loan5.jpg\")\n",
    "face_locations = face_recognition.face_locations(picture)"
   ]
  },
  {
   "cell_type": "code",
   "execution_count": null,
   "metadata": {},
   "outputs": [],
   "source": []
  }
 ],
 "metadata": {
  "kernelspec": {
   "display_name": "Python 3",
   "language": "python",
   "name": "python3"
  },
  "language_info": {
   "codemirror_mode": {
    "name": "ipython",
    "version": 3
   },
   "file_extension": ".py",
   "mimetype": "text/x-python",
   "name": "python",
   "nbconvert_exporter": "python",
   "pygments_lexer": "ipython3",
   "version": "3.6.7"
  }
 },
 "nbformat": 4,
 "nbformat_minor": 2
}
